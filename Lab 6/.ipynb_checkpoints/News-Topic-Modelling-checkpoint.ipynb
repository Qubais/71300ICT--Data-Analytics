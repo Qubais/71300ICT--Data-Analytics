{
 "cells": [
  {
   "cell_type": "markdown",
   "metadata": {},
   "source": [
    "# Topic Modelling for News"
   ]
  },
  {
   "cell_type": "markdown",
   "metadata": {},
   "source": [
    "![](https://images.unsplash.com/photo-1495020689067-958852a7765e?ixlib=rb-1.2.1&ixid=eyJhcHBfaWQiOjEyMDd9&auto=format&fit=crop&w=1050&q=80)\n",
    "\n",
    "Photo by [Roman Kraft](https://unsplash.com/photos/_Zua2hyvTBk)"
   ]
  },
  {
   "cell_type": "markdown",
   "metadata": {},
   "source": [
    "This exercise is about modelling the main topics of a database of News headlines."
   ]
  },
  {
   "cell_type": "markdown",
   "metadata": {},
   "source": [
    "Begin by importing the needed libraries:"
   ]
  },
  {
   "cell_type": "code",
   "execution_count": 2,
   "metadata": {},
   "outputs": [],
   "source": [
    "# TODO: import needed libraries\n",
    "import nltk\n",
    "import pandas as pd\n",
    "import numpy as np\n"
   ]
  },
  {
   "cell_type": "markdown",
   "metadata": {},
   "source": [
    "Load the data in the file `random_headlines.csv`"
   ]
  },
  {
   "cell_type": "code",
   "execution_count": 3,
   "metadata": {
    "scrolled": true
   },
   "outputs": [
    {
     "name": "stdout",
     "output_type": "stream",
     "text": [
      "(20000, 2)\n"
     ]
    },
    {
     "data": {
      "text/html": [
       "<div>\n",
       "<style scoped>\n",
       "    .dataframe tbody tr th:only-of-type {\n",
       "        vertical-align: middle;\n",
       "    }\n",
       "\n",
       "    .dataframe tbody tr th {\n",
       "        vertical-align: top;\n",
       "    }\n",
       "\n",
       "    .dataframe thead th {\n",
       "        text-align: right;\n",
       "    }\n",
       "</style>\n",
       "<table border=\"1\" class=\"dataframe\">\n",
       "  <thead>\n",
       "    <tr style=\"text-align: right;\">\n",
       "      <th></th>\n",
       "      <th>publish_date</th>\n",
       "      <th>headline_text</th>\n",
       "    </tr>\n",
       "  </thead>\n",
       "  <tbody>\n",
       "    <tr>\n",
       "      <th>0</th>\n",
       "      <td>20120305</td>\n",
       "      <td>ute driver hurt in intersection crash</td>\n",
       "    </tr>\n",
       "    <tr>\n",
       "      <th>1</th>\n",
       "      <td>20081128</td>\n",
       "      <td>6yo dies in cycling accident</td>\n",
       "    </tr>\n",
       "    <tr>\n",
       "      <th>2</th>\n",
       "      <td>20090325</td>\n",
       "      <td>bumper olive harvest expected</td>\n",
       "    </tr>\n",
       "    <tr>\n",
       "      <th>3</th>\n",
       "      <td>20100201</td>\n",
       "      <td>replica replaces northernmost sign</td>\n",
       "    </tr>\n",
       "    <tr>\n",
       "      <th>4</th>\n",
       "      <td>20080225</td>\n",
       "      <td>woods targets perfect season</td>\n",
       "    </tr>\n",
       "  </tbody>\n",
       "</table>\n",
       "</div>"
      ],
      "text/plain": [
       "   publish_date                          headline_text\n",
       "0      20120305  ute driver hurt in intersection crash\n",
       "1      20081128           6yo dies in cycling accident\n",
       "2      20090325          bumper olive harvest expected\n",
       "3      20100201     replica replaces northernmost sign\n",
       "4      20080225           woods targets perfect season"
      ]
     },
     "execution_count": 3,
     "metadata": {},
     "output_type": "execute_result"
    }
   ],
   "source": [
    "# TODO: load the dataset\n",
    "df = pd.read_csv('random_headlines.csv')\n",
    "print(df.shape)\n",
    "df.head()"
   ]
  },
  {
   "cell_type": "markdown",
   "metadata": {},
   "source": [
    "This is always a good idea to perform some EDA (exploratory data analytics) on a dataset..."
   ]
  },
  {
   "cell_type": "code",
   "execution_count": 4,
   "metadata": {},
   "outputs": [
    {
     "name": "stdout",
     "output_type": "stream",
     "text": [
      "<class 'pandas.core.frame.DataFrame'>\n",
      "RangeIndex: 20000 entries, 0 to 19999\n",
      "Data columns (total 2 columns):\n",
      " #   Column         Non-Null Count  Dtype \n",
      "---  ------         --------------  ----- \n",
      " 0   publish_date   20000 non-null  int64 \n",
      " 1   headline_text  20000 non-null  object\n",
      "dtypes: int64(1), object(1)\n",
      "memory usage: 312.6+ KB\n"
     ]
    }
   ],
   "source": [
    "# TODO: Perform a short EDA\n",
    "df.info()"
   ]
  },
  {
   "cell_type": "markdown",
   "metadata": {},
   "source": [
    "Now perform all the needed preprocessing on those headlines: case lowering, tokenization, punctuation removal, stopwords removal, stemming/lemmatization."
   ]
  },
  {
   "cell_type": "code",
   "execution_count": 9,
   "metadata": {
    "scrolled": true
   },
   "outputs": [
    {
     "name": "stdout",
     "output_type": "stream",
     "text": [
      "showing info https://raw.githubusercontent.com/nltk/nltk_data/gh-pages/index.xml\n"
     ]
    },
    {
     "data": {
      "text/plain": [
       "0    [ute, driver, hurt, intersect, crash]\n",
       "1                       [die, cycl, accid]\n",
       "2          [bumper, oliv, harvest, expect]\n",
       "3    [replica, replac, northernmost, sign]\n",
       "4          [wood, target, perfect, season]\n",
       "Name: stemmed, dtype: object"
      ]
     },
     "execution_count": 9,
     "metadata": {},
     "output_type": "execute_result"
    }
   ],
   "source": [
    "# TODO: Preprocess the input data\n",
    "\n",
    "import nltk\n",
    "nltk.download()\n",
    "\n",
    "\n",
    "# tokenize\n",
    "df['tokens'] = df['headline_text'].apply(lambda row: nltk.word_tokenize(row))\n",
    "\n",
    "# punctuation\n",
    "df['alphanumeric'] = df['tokens'].apply(lambda row: [\n",
    "    word for word in row if word.isalpha()\n",
    "])\n",
    "\n",
    "# remove stopwords\n",
    "stop = nltk.corpus.stopwords.words('english')\n",
    "df['stop'] = df['alphanumeric'].apply(lambda row: [\n",
    "    word for word in row if word not in stop\n",
    "])\n",
    "\n",
    "# stemming\n",
    "stemmer = nltk.PorterStemmer()\n",
    "df['stemmed'] = df['stop'].apply(lambda row: [\n",
    "    stemmer.stem(word) for word in row\n",
    "])\n",
    "\n",
    "df['stemmed'].head()"
   ]
  },
  {
   "cell_type": "markdown",
   "metadata": {},
   "source": [
    "Now use Gensim to compute a BOW"
   ]
  },
  {
   "cell_type": "code",
   "execution_count": 14,
   "metadata": {},
   "outputs": [
    {
     "name": "stdout",
     "output_type": "stream",
     "text": [
      "20000\n",
      "[5, 3]\n"
     ]
    }
   ],
   "source": [
    "# TODO: Compute the BOW using Gensim\n",
    "from gensim.corpora import Dictionary\n",
    "\n",
    "dictionary = Dictionary(df['stemmed'])\n",
    "corpus = [dictionary.doc2bow(line) for line in df['stemmed']]\n",
    "##print(np.shape(corpus))\n",
    "##corpus[0:2]\n",
    "print(len(corpus))\n",
    "print([len(doc) for doc in corpus[0:2]])\n"
   ]
  },
  {
   "cell_type": "markdown",
   "metadata": {},
   "source": [
    "Compute the TF-IDF using Gensim"
   ]
  },
  {
   "cell_type": "code",
   "execution_count": 17,
   "metadata": {},
   "outputs": [
    {
     "name": "stdout",
     "output_type": "stream",
     "text": [
      "20000\n",
      "[5, 3, 4, 4, 4]\n"
     ]
    }
   ],
   "source": [
    "# TODO: Compute TF-IDF\n",
    "from gensim.models import TfidfModel\n",
    "\n",
    "tfidf_model = TfidfModel(corpus)\n",
    "tf_idf = tfidf_model[corpus]\n",
    "##print(np.shape(tf_idf))\n",
    "print(len(tf_idf))\n",
    "print([len(doc) for doc in tf_idf[:5]])\n"
   ]
  },
  {
   "cell_type": "markdown",
   "metadata": {},
   "source": [
    "Finally compute the **LSA** (also called LSI) using Gensim, for a given number of Topics that you choose yourself"
   ]
  },
  {
   "cell_type": "code",
   "execution_count": 18,
   "metadata": {},
   "outputs": [],
   "source": [
    "# TODO: Compute LSA\n",
    "from gensim.models import LsiModel\n",
    "\n",
    "lsi = LsiModel(corpus=corpus, num_topics=4, id2word=dictionary)\n"
   ]
  },
  {
   "cell_type": "markdown",
   "metadata": {},
   "source": [
    "For each of the topic, show the most significant words."
   ]
  },
  {
   "cell_type": "code",
   "execution_count": 19,
   "metadata": {},
   "outputs": [
    {
     "data": {
      "text/plain": [
       "[(0, '-0.752*\"polic\" + -0.404*\"man\" + -0.207*\"charg\"'),\n",
       " (1, '-0.670*\"man\" + 0.574*\"polic\" + -0.329*\"charg\"'),\n",
       " (2, '-0.656*\"new\" + -0.296*\"plan\" + 0.240*\"man\"'),\n",
       " (3, '-0.702*\"new\" + 0.345*\"say\" + 0.333*\"plan\"')]"
      ]
     },
     "execution_count": 19,
     "metadata": {},
     "output_type": "execute_result"
    }
   ],
   "source": [
    "# TODO: Print the 3 or 4 most significant words of each topic\n",
    "lsi.print_topics(num_words=3)"
   ]
  },
  {
   "cell_type": "markdown",
   "metadata": {},
   "source": [
    "What do you think about those results?"
   ]
  },
  {
   "cell_type": "markdown",
   "metadata": {},
   "source": [
    "Now let's try to use LDA instead of LSA using Gensim"
   ]
  },
  {
   "cell_type": "code",
   "execution_count": 20,
   "metadata": {},
   "outputs": [],
   "source": [
    "# TODO: Compute LDA\n",
    "from gensim.models import LdaModel\n",
    "\n",
    "lda = LdaModel(corpus=corpus, num_topics=4, id2word=dictionary)"
   ]
  },
  {
   "cell_type": "code",
   "execution_count": 21,
   "metadata": {
    "scrolled": true
   },
   "outputs": [
    {
     "data": {
      "text/plain": [
       "[(0, '0.016*\"man\" + 0.015*\"polic\" + 0.012*\"charg\"'),\n",
       " (1, '0.008*\"say\" + 0.007*\"back\" + 0.007*\"interview\"'),\n",
       " (2, '0.007*\"new\" + 0.007*\"polic\" + 0.005*\"second\"'),\n",
       " (3, '0.006*\"govt\" + 0.006*\"year\" + 0.006*\"mine\"')]"
      ]
     },
     "execution_count": 21,
     "metadata": {},
     "output_type": "execute_result"
    }
   ],
   "source": [
    "# TODO: print the most frequent words of each topic\n",
    "lda.print_topics(num_words=3)"
   ]
  },
  {
   "cell_type": "markdown",
   "metadata": {},
   "source": [
    "Now, how does it work with LDA?"
   ]
  },
  {
   "cell_type": "markdown",
   "metadata": {},
   "source": [
    "Let's make some visualization of the LDA results using pyLDAvis."
   ]
  },
  {
   "cell_type": "code",
   "execution_count": 28,
   "metadata": {},
   "outputs": [
    {
     "name": "stdout",
     "output_type": "stream",
     "text": [
      "Requirement already satisfied: pyLDAvis in /opt/anaconda3/lib/python3.11/site-packages (3.4.1)\n",
      "Requirement already satisfied: numpy>=1.24.2 in /opt/anaconda3/lib/python3.11/site-packages (from pyLDAvis) (1.26.4)\n",
      "Requirement already satisfied: scipy in /opt/anaconda3/lib/python3.11/site-packages (from pyLDAvis) (1.11.4)\n",
      "Requirement already satisfied: pandas>=2.0.0 in /opt/anaconda3/lib/python3.11/site-packages (from pyLDAvis) (2.1.4)\n",
      "Requirement already satisfied: joblib>=1.2.0 in /opt/anaconda3/lib/python3.11/site-packages (from pyLDAvis) (1.2.0)\n",
      "Requirement already satisfied: jinja2 in /opt/anaconda3/lib/python3.11/site-packages (from pyLDAvis) (3.1.3)\n",
      "Requirement already satisfied: numexpr in /opt/anaconda3/lib/python3.11/site-packages (from pyLDAvis) (2.8.7)\n",
      "Requirement already satisfied: funcy in /opt/anaconda3/lib/python3.11/site-packages (from pyLDAvis) (2.0)\n",
      "Requirement already satisfied: scikit-learn>=1.0.0 in /opt/anaconda3/lib/python3.11/site-packages (from pyLDAvis) (1.2.2)\n",
      "Requirement already satisfied: gensim in /opt/anaconda3/lib/python3.11/site-packages (from pyLDAvis) (4.3.0)\n",
      "Requirement already satisfied: setuptools in /opt/anaconda3/lib/python3.11/site-packages (from pyLDAvis) (68.2.2)\n",
      "Requirement already satisfied: python-dateutil>=2.8.2 in /opt/anaconda3/lib/python3.11/site-packages (from pandas>=2.0.0->pyLDAvis) (2.8.2)\n",
      "Requirement already satisfied: pytz>=2020.1 in /opt/anaconda3/lib/python3.11/site-packages (from pandas>=2.0.0->pyLDAvis) (2023.3.post1)\n",
      "Requirement already satisfied: tzdata>=2022.1 in /opt/anaconda3/lib/python3.11/site-packages (from pandas>=2.0.0->pyLDAvis) (2023.3)\n",
      "Requirement already satisfied: threadpoolctl>=2.0.0 in /opt/anaconda3/lib/python3.11/site-packages (from scikit-learn>=1.0.0->pyLDAvis) (2.2.0)\n",
      "Requirement already satisfied: smart-open>=1.8.1 in /opt/anaconda3/lib/python3.11/site-packages (from gensim->pyLDAvis) (5.2.1)\n",
      "Requirement already satisfied: FuzzyTM>=0.4.0 in /opt/anaconda3/lib/python3.11/site-packages (from gensim->pyLDAvis) (2.0.9)\n",
      "Requirement already satisfied: MarkupSafe>=2.0 in /opt/anaconda3/lib/python3.11/site-packages (from jinja2->pyLDAvis) (2.1.3)\n",
      "Requirement already satisfied: pyfume in /opt/anaconda3/lib/python3.11/site-packages (from FuzzyTM>=0.4.0->gensim->pyLDAvis) (0.3.1)\n",
      "Requirement already satisfied: six>=1.5 in /opt/anaconda3/lib/python3.11/site-packages (from python-dateutil>=2.8.2->pandas>=2.0.0->pyLDAvis) (1.16.0)\n",
      "Requirement already satisfied: simpful in /opt/anaconda3/lib/python3.11/site-packages (from pyfume->FuzzyTM>=0.4.0->gensim->pyLDAvis) (2.12.0)\n",
      "Requirement already satisfied: fst-pso in /opt/anaconda3/lib/python3.11/site-packages (from pyfume->FuzzyTM>=0.4.0->gensim->pyLDAvis) (1.8.1)\n",
      "Requirement already satisfied: typing-extensions in /opt/anaconda3/lib/python3.11/site-packages (from pyfume->FuzzyTM>=0.4.0->gensim->pyLDAvis) (4.9.0)\n",
      "Requirement already satisfied: miniful in /opt/anaconda3/lib/python3.11/site-packages (from fst-pso->pyfume->FuzzyTM>=0.4.0->gensim->pyLDAvis) (0.0.6)\n"
     ]
    }
   ],
   "source": [
    "!pip install pyLDAvis\n"
   ]
  },
  {
   "cell_type": "code",
   "execution_count": 30,
   "metadata": {},
   "outputs": [
    {
     "data": {
      "text/html": [
       "\n",
       "<link rel=\"stylesheet\" type=\"text/css\" href=\"https://cdn.jsdelivr.net/gh/bmabey/pyLDAvis@3.4.0/pyLDAvis/js/ldavis.v1.0.0.css\">\n",
       "\n",
       "\n",
       "<div id=\"ldavis_el2578255617071844889411248\" style=\"background-color:white;\"></div>\n",
       "<script type=\"text/javascript\">\n",
       "\n",
       "var ldavis_el2578255617071844889411248_data = {\"mdsDat\": {\"x\": [0.11246873710832812, -0.22684162069102626, 0.09348864816981224, 0.020884235412885917], \"y\": [-0.0840069264698588, -0.056550133198675176, -0.08698090680613958, 0.22753796647467353], \"topics\": [1, 2, 3, 4], \"cluster\": [1, 1, 1, 1], \"Freq\": [26.559086086898425, 25.950972352811025, 23.963539748571876, 23.52640181171867]}, \"tinfo\": {\"Term\": [\"man\", \"charg\", \"polic\", \"court\", \"back\", \"elect\", \"murder\", \"crash\", \"year\", \"second\", \"market\", \"search\", \"rate\", \"interview\", \"mine\", \"servic\", \"news\", \"australia\", \"accus\", \"trial\", \"abc\", \"face\", \"aussi\", \"final\", \"concern\", \"countri\", \"job\", \"weather\", \"injur\", \"water\", \"abbott\", \"readi\", \"plane\", \"oil\", \"vow\", \"worri\", \"threat\", \"third\", \"indonesian\", \"eye\", \"hunter\", \"result\", \"elect\", \"race\", \"speed\", \"point\", \"slow\", \"quarter\", \"ash\", \"await\", \"coalit\", \"compani\", \"king\", \"illeg\", \"terror\", \"success\", \"must\", \"class\", \"scam\", \"suffer\", \"boat\", \"vote\", \"fish\", \"futur\", \"cross\", \"doctor\", \"grandstand\", \"hobart\", \"japan\", \"scheme\", \"back\", \"wait\", \"action\", \"emerg\", \"concern\", \"land\", \"red\", \"welcom\", \"meet\", \"interview\", \"water\", \"may\", \"australia\", \"call\", \"say\", \"farmer\", \"plan\", \"dump\", \"chief\", \"new\", \"help\", \"mp\", \"keep\", \"fund\", \"road\", \"council\", \"warn\", \"govt\", \"resid\", \"us\", \"mayor\", \"clash\", \"slam\", \"higher\", \"stab\", \"rate\", \"evid\", \"possibl\", \"militari\", \"econom\", \"plead\", \"gain\", \"harvest\", \"countri\", \"member\", \"traffic\", \"drown\", \"arm\", \"holiday\", \"escap\", \"franc\", \"roar\", \"guilti\", \"keen\", \"grower\", \"hour\", \"four\", \"histori\", \"pull\", \"truck\", \"creat\", \"charg\", \"abc\", \"fatal\", \"news\", \"mother\", \"refus\", \"man\", \"climat\", \"teen\", \"bail\", \"market\", \"murder\", \"protect\", \"trial\", \"court\", \"crash\", \"driver\", \"assault\", \"accus\", \"alleg\", \"polic\", \"face\", \"child\", \"budget\", \"death\", \"drug\", \"arrest\", \"attack\", \"chang\", \"jail\", \"kill\", \"car\", \"woman\", \"flood\", \"report\", \"us\", \"respons\", \"convict\", \"uk\", \"condit\", \"drink\", \"firm\", \"rape\", \"major\", \"se\", \"spot\", \"storm\", \"approv\", \"sell\", \"hawk\", \"held\", \"kangaroo\", \"cat\", \"explor\", \"stock\", \"option\", \"closur\", \"cattl\", \"fine\", \"mix\", \"reef\", \"summit\", \"angri\", \"campbel\", \"pilbara\", \"william\", \"war\", \"central\", \"judg\", \"injur\", \"wast\", \"murray\", \"accid\", \"servic\", \"year\", \"challeng\", \"local\", \"launch\", \"look\", \"push\", \"drive\", \"review\", \"brisban\", \"mine\", \"ban\", \"name\", \"take\", \"govt\", \"group\", \"coast\", \"council\", \"set\", \"top\", \"school\", \"boost\", \"urg\", \"new\", \"plan\", \"us\", \"kill\", \"continu\", \"fire\", \"qld\", \"say\", \"interview\", \"second\", \"defenc\", \"despit\", \"celebr\", \"dairi\", \"western\", \"way\", \"tough\", \"reach\", \"team\", \"level\", \"christma\", \"collaps\", \"indonesia\", \"closer\", \"uni\", \"chanc\", \"demand\", \"pair\", \"outbreak\", \"zealand\", \"ask\", \"brace\", \"music\", \"replac\", \"gp\", \"march\", \"survivor\", \"nrl\", \"pipelin\", \"search\", \"aussi\", \"weather\", \"posit\", \"flu\", \"bodi\", \"festiv\", \"hunt\", \"shark\", \"poll\", \"girl\", \"final\", \"stage\", \"titl\", \"job\", \"life\", \"move\", \"miss\", \"deni\", \"get\", \"campaign\", \"win\", \"new\", \"fire\", \"first\", \"test\", \"polic\", \"power\", \"found\", \"make\", \"sydney\", \"hit\", \"run\", \"cut\", \"hous\", \"pm\", \"wa\", \"nsw\", \"boost\", \"home\"], \"Freq\": [463.0, 338.0, 629.0, 287.0, 231.0, 167.0, 200.0, 213.0, 152.0, 124.0, 173.0, 126.0, 131.0, 285.0, 197.0, 118.0, 119.0, 208.0, 152.0, 139.0, 110.0, 245.0, 96.0, 132.0, 155.0, 101.0, 132.0, 90.0, 94.0, 208.0, 61.68792107547053, 58.447157197087606, 48.05898098695508, 42.518780213229974, 42.209920183401785, 39.98014166243981, 61.41187597656052, 37.89230635353457, 38.12941127922547, 36.30308353144406, 68.44334327641825, 44.073230945158556, 163.47626504735734, 56.368349562749124, 30.215620430837316, 30.509441737854182, 30.398330921014924, 29.4611180960603, 32.78550057221357, 30.52999349594204, 28.99661473946918, 72.90923174435598, 27.82479022572087, 40.897107246790206, 40.883026485229465, 34.68807188495868, 27.019880731231837, 27.52221404104966, 27.499302272463673, 26.729894441274425, 47.21026221156599, 70.8636165157331, 51.431404268208, 94.07857032135895, 35.86144753463923, 63.312781959317036, 37.8605730940947, 39.26463342585296, 59.21779578643985, 46.88928492353505, 203.79984850636, 45.831483175063205, 72.3947938645639, 43.86075069889906, 131.76074375090366, 85.6002516391788, 53.320224713332976, 89.60925603173038, 82.28396108074155, 200.6054093501742, 152.32375629742938, 103.98932021418884, 144.66070070418166, 199.28679789314518, 220.18512225383225, 104.60145745331201, 181.70968077943309, 56.198885583109394, 67.28893018420787, 178.13106744119187, 88.56000932131425, 83.85142676303818, 63.51277381669061, 94.30692671350975, 79.02294678969727, 107.43333682466587, 87.85708146326984, 94.95587884758086, 69.20135073431412, 82.14041915189577, 70.5383981873312, 60.48985639765056, 55.883418787805894, 48.589352755230394, 59.47686424916887, 129.5091890063162, 38.963392012809685, 37.010805262806805, 34.89296012817545, 34.31745219714551, 55.26257242862942, 31.71307130255167, 31.590609815369692, 99.27919385006749, 31.041124679166, 30.69458386878807, 28.713380102988296, 28.28203585177652, 27.158422029861814, 54.82582587496621, 26.433307824002412, 25.892975297746545, 88.80062394404824, 25.76372141479733, 57.220102765786635, 76.0170654598997, 57.20346503798443, 25.115615589149098, 24.875794272751317, 36.53607522288876, 25.020185760504177, 327.4670811894411, 106.73879721576293, 64.08379776744282, 115.1028383747716, 53.793394116056916, 34.51131210043248, 436.5983266336915, 45.31091452699877, 86.05549803837056, 63.988050247460386, 158.62000562166455, 179.17310404095056, 62.15928873282, 126.40083497161545, 249.36271855415342, 187.344881501929, 93.87533548594732, 85.82573746423171, 130.29395169793443, 81.14001649425659, 402.74860906818355, 179.64103083710447, 80.1294790924998, 86.47136684716125, 138.3626545918879, 101.75351656022838, 94.53994576400738, 117.0276573521627, 124.05344002392769, 109.75357332985934, 146.16397605848655, 105.28352913463162, 88.89630947547701, 88.94699751580437, 94.74354096964657, 93.37849722836663, 51.34386950157173, 46.86651037455613, 45.78370122024925, 44.945838670147666, 48.77912537805277, 40.347863718433246, 40.52616437683647, 38.085576447120395, 37.21933656503275, 35.38157303540717, 64.13439021487623, 61.08351363072576, 39.26967965424129, 32.60157904965845, 32.241531811751514, 30.87507813031612, 30.001102098116686, 29.00320456109297, 48.41693731873125, 28.00310037525824, 30.193269440682545, 57.476063547634034, 61.78155306667229, 29.618198443342305, 26.106561566795968, 25.8992653712923, 25.616339221403177, 25.377800771138048, 25.025835992689373, 24.611655738424954, 60.84591107431433, 45.89177835695705, 28.006735192365884, 89.91443644709848, 49.366500374405426, 53.384249757432464, 63.02962333076631, 111.50436282769128, 141.9163566723112, 51.18173948620645, 73.34408945797841, 57.694581883199966, 78.15209387317901, 89.13885233814837, 43.7646061099236, 92.17045008132474, 72.27560777960922, 137.73711837551897, 94.13898116500411, 74.26868962009912, 131.12679991470483, 155.7055705755181, 95.85760283119893, 85.43535149747193, 134.23921080422096, 92.14315174622811, 73.81113769776442, 73.82674737690229, 75.98665873645099, 88.82163297677593, 118.81938932591714, 106.97991421573703, 85.01919642131438, 82.81133982067334, 71.63827837554251, 75.55524315256275, 73.25399751080167, 74.69935534408012, 69.56364497704847, 123.75794660338168, 58.489853941334374, 54.055087647840224, 48.76191169208936, 45.2172136587722, 44.91794760480064, 43.997100230252585, 42.73430796585729, 42.29615094754743, 46.91671024820276, 41.47413729300009, 40.47757003767137, 40.018063766943094, 37.341708221270785, 36.1929931217788, 34.27972583285617, 34.27270682357199, 57.69966185609982, 33.19453866807437, 34.08613267766742, 30.66579867594267, 30.144307079029836, 30.60330757647102, 28.50950732257296, 28.769250004009983, 28.342796017593084, 27.844755442091685, 28.555319142976998, 43.78902509994347, 32.58346619246299, 122.6885508045635, 93.75212025035728, 87.3705482793032, 37.54523420184767, 43.199046180255365, 77.73913567175104, 68.78398128696146, 56.26389512751952, 40.002528097474624, 55.86390713327543, 41.393716530501074, 110.50207832498975, 38.39274725961917, 49.67464140537961, 103.42746769744805, 48.76199036793402, 69.98787344222345, 123.54966916375774, 67.11959941291298, 106.92883500931951, 47.46348488976694, 123.23217841234134, 175.41739411929132, 114.90779075299214, 71.8403299229282, 82.32865735168856, 162.90131480822376, 71.2528573908628, 74.07452722161946, 65.7191974765067, 78.8967664303538, 80.9660647783439, 60.056717105928584, 68.52695854186835, 72.33902238399963, 61.339257007333174, 64.83122255576794, 63.07522828031775, 61.19268390873429, 60.83692859829788], \"Total\": [463.0, 338.0, 629.0, 287.0, 231.0, 167.0, 200.0, 213.0, 152.0, 124.0, 173.0, 126.0, 131.0, 285.0, 197.0, 118.0, 119.0, 208.0, 152.0, 139.0, 110.0, 245.0, 96.0, 132.0, 155.0, 101.0, 132.0, 90.0, 94.0, 208.0, 62.395543619073216, 59.15551123328532, 48.780850924829856, 43.23016398264576, 42.91956777385279, 40.69544864526746, 62.51601965696419, 38.59578441378462, 38.837668339251884, 37.022773303630785, 69.80510674950592, 44.95360473388085, 167.04903330775997, 57.61742045223464, 30.91453931224114, 31.2173946334826, 31.105566468658566, 30.16777189552993, 33.57916416004677, 31.27232736693539, 29.708496995532524, 74.71362210946582, 28.523954950416126, 41.94847984478825, 41.93715498925345, 35.589100018164295, 27.721898465802184, 28.239919936378477, 28.219430154557926, 27.442048311563717, 48.59071491236716, 73.35175336897339, 53.16122538983919, 98.76782163608266, 36.94159678271134, 66.11753842826596, 39.055771847778786, 40.56080392707277, 62.132637597163665, 48.91730347156105, 231.70144241209312, 47.9975875720707, 79.0159908805309, 45.88554861939839, 155.51813627096547, 98.82988080558489, 57.74461438341759, 105.68535046760938, 97.25759869542568, 285.3041405636947, 208.0679348792495, 134.63206341377386, 208.78584473121717, 314.8896908690559, 385.9292558078668, 160.52257116078513, 367.9943605430813, 64.57337101738509, 86.60330742285832, 484.32940085646436, 158.9578364664707, 145.92473799083047, 82.80031636694866, 197.07959522841517, 137.3370577260228, 329.8219057773537, 208.43857750302183, 312.7862966812973, 103.24528706948516, 262.2509205360912, 121.26284804550794, 61.20292424849082, 56.62905896578765, 49.31045063874745, 60.55587280828578, 131.88707361871946, 39.67939022814966, 37.72536885345787, 35.60784252217287, 35.03399536569358, 56.45774869676383, 32.41270950653509, 32.31625202727164, 101.6012658443505, 31.773084693726737, 31.42240798831365, 29.419998830591926, 28.999295961373747, 27.88245057920815, 56.28822824996441, 27.15662727143833, 26.612958016629694, 91.28825602479161, 26.49103924365359, 58.84007062790994, 78.17614270192233, 58.83202224371294, 25.834710460774584, 25.58951640532005, 37.601234046162, 25.755636611052786, 338.80251694183585, 110.20074341705025, 65.97773878966646, 119.33016501979124, 55.42327440788422, 35.54467599307106, 463.4625608685853, 46.866140505157524, 90.78125469380267, 67.17088642603355, 173.45913122818925, 200.390636529694, 65.8443467741517, 139.24589079040058, 287.43579699507256, 213.21607671137167, 103.98647078158568, 94.33630631313065, 152.06474207296984, 90.44553923421046, 629.207577610239, 245.0142747686967, 91.83659236027275, 102.21661809185532, 206.46244039581578, 135.95940356587974, 123.63251580827537, 170.05409440071517, 189.7675649267929, 157.65787294601628, 261.1658783297826, 152.40812312532398, 145.62791942589686, 150.11936747347696, 222.69235096389355, 262.2509205360912, 52.047712758874056, 47.59287887951648, 46.49707160710062, 45.672005624500464, 49.588920303130195, 41.057446191022656, 41.242648489714384, 38.80623101832069, 37.95140063566475, 36.081776307817115, 65.4815477559491, 62.38735584849398, 40.137842117377524, 33.323935550819364, 32.962007341020716, 31.577622574093688, 30.704286245903827, 29.71045289727244, 49.63428929581144, 28.712817902168815, 30.981233908256353, 58.98832393411838, 63.420835822212624, 30.4081684799593, 26.814625224963226, 26.61195150712054, 26.32382169666657, 26.085408966508954, 25.723908998696686, 25.308694562076692, 62.92024021834164, 47.355712360264675, 28.807373810929843, 94.06600164926704, 51.2675823750332, 55.556545286429575, 65.82533795179135, 118.25875172622924, 152.02671371907178, 53.30687357060308, 77.56845153651419, 60.471869275732054, 83.74002979100338, 99.78674983909447, 45.95948329699926, 113.99944474246519, 85.58205476697161, 197.88804613836504, 128.94637424938273, 98.97139971242078, 226.19280893220875, 312.7862966812973, 158.6203741640155, 143.10224759343043, 329.8219057773537, 197.04065165098234, 130.06271643975583, 131.69704186556552, 141.9474374159599, 218.13898188584074, 484.32940085646436, 367.9943605430813, 262.2509205360912, 261.1658783297826, 163.69434093851308, 251.51175763692464, 208.88861861436575, 385.9292558078668, 285.3041405636947, 124.63755427715917, 59.21082739044444, 54.778854833840626, 49.465328433791306, 45.91833100235725, 45.629145235170284, 44.71576709579386, 43.43463735789202, 43.01058421972554, 47.7115884739496, 42.19469508657569, 41.19617776716058, 40.74033853656188, 38.06618923490182, 36.8995797491704, 34.99364984327381, 35.00881774324855, 58.94885608245266, 33.93249628884837, 34.85519649893312, 31.362686284813847, 30.84864321972945, 31.324198822451343, 29.21459100671483, 29.492905033868976, 29.05928659460035, 28.553934980569597, 29.283015391591515, 44.91793142286928, 33.442957164504485, 126.68161331775028, 96.60521926067786, 90.3582892998735, 38.55638141740598, 44.44175212625871, 80.46026392297131, 71.56037757750224, 58.80398775230098, 41.38515591732127, 59.906922587854865, 43.279642397723464, 132.1918566646836, 39.82463355318091, 54.116136377234724, 132.20757918890104, 53.457342065074094, 85.84489771551823, 185.82205366628168, 85.69974014328196, 179.18818974802173, 52.64989742717866, 261.15498932887556, 484.32940085646436, 251.51175763692464, 109.67561523336806, 148.5728081415579, 629.207577610239, 119.4033797677142, 131.0845065188847, 108.49544674208224, 177.06599947987183, 201.99411904764722, 93.04568165999834, 141.68346286569928, 197.9950520283878, 107.4129371856701, 188.3949701355705, 185.09730534063132, 141.9474374159599, 162.9825494866781], \"Category\": [\"Default\", \"Default\", \"Default\", \"Default\", \"Default\", \"Default\", \"Default\", \"Default\", \"Default\", \"Default\", \"Default\", \"Default\", \"Default\", \"Default\", \"Default\", \"Default\", \"Default\", \"Default\", \"Default\", \"Default\", \"Default\", \"Default\", \"Default\", \"Default\", \"Default\", \"Default\", \"Default\", \"Default\", \"Default\", \"Default\", \"Topic1\", \"Topic1\", \"Topic1\", \"Topic1\", \"Topic1\", \"Topic1\", \"Topic1\", \"Topic1\", \"Topic1\", \"Topic1\", \"Topic1\", \"Topic1\", \"Topic1\", \"Topic1\", \"Topic1\", \"Topic1\", \"Topic1\", \"Topic1\", \"Topic1\", \"Topic1\", \"Topic1\", \"Topic1\", \"Topic1\", \"Topic1\", \"Topic1\", \"Topic1\", \"Topic1\", \"Topic1\", \"Topic1\", \"Topic1\", \"Topic1\", \"Topic1\", \"Topic1\", \"Topic1\", \"Topic1\", \"Topic1\", \"Topic1\", \"Topic1\", \"Topic1\", \"Topic1\", \"Topic1\", \"Topic1\", \"Topic1\", \"Topic1\", \"Topic1\", \"Topic1\", \"Topic1\", \"Topic1\", \"Topic1\", \"Topic1\", \"Topic1\", \"Topic1\", \"Topic1\", \"Topic1\", \"Topic1\", \"Topic1\", \"Topic1\", \"Topic1\", \"Topic1\", \"Topic1\", \"Topic1\", \"Topic1\", \"Topic1\", \"Topic1\", \"Topic1\", \"Topic1\", \"Topic1\", \"Topic1\", \"Topic1\", \"Topic1\", \"Topic1\", \"Topic2\", \"Topic2\", \"Topic2\", \"Topic2\", \"Topic2\", \"Topic2\", \"Topic2\", \"Topic2\", \"Topic2\", \"Topic2\", \"Topic2\", \"Topic2\", \"Topic2\", \"Topic2\", \"Topic2\", \"Topic2\", \"Topic2\", \"Topic2\", \"Topic2\", \"Topic2\", \"Topic2\", \"Topic2\", \"Topic2\", \"Topic2\", \"Topic2\", \"Topic2\", \"Topic2\", \"Topic2\", \"Topic2\", \"Topic2\", \"Topic2\", \"Topic2\", \"Topic2\", \"Topic2\", \"Topic2\", \"Topic2\", \"Topic2\", \"Topic2\", \"Topic2\", \"Topic2\", \"Topic2\", \"Topic2\", \"Topic2\", \"Topic2\", \"Topic2\", \"Topic2\", \"Topic2\", \"Topic2\", \"Topic2\", \"Topic2\", \"Topic2\", \"Topic2\", \"Topic2\", \"Topic2\", \"Topic2\", \"Topic2\", \"Topic2\", \"Topic2\", \"Topic2\", \"Topic2\", \"Topic2\", \"Topic2\", \"Topic2\", \"Topic2\", \"Topic2\", \"Topic2\", \"Topic3\", \"Topic3\", \"Topic3\", \"Topic3\", \"Topic3\", \"Topic3\", \"Topic3\", \"Topic3\", \"Topic3\", \"Topic3\", \"Topic3\", \"Topic3\", \"Topic3\", \"Topic3\", \"Topic3\", \"Topic3\", \"Topic3\", \"Topic3\", \"Topic3\", \"Topic3\", \"Topic3\", \"Topic3\", \"Topic3\", \"Topic3\", \"Topic3\", \"Topic3\", \"Topic3\", \"Topic3\", \"Topic3\", \"Topic3\", \"Topic3\", \"Topic3\", \"Topic3\", \"Topic3\", \"Topic3\", \"Topic3\", \"Topic3\", \"Topic3\", \"Topic3\", \"Topic3\", \"Topic3\", \"Topic3\", \"Topic3\", \"Topic3\", \"Topic3\", \"Topic3\", \"Topic3\", \"Topic3\", \"Topic3\", \"Topic3\", \"Topic3\", \"Topic3\", \"Topic3\", \"Topic3\", \"Topic3\", \"Topic3\", \"Topic3\", \"Topic3\", \"Topic3\", \"Topic3\", \"Topic3\", \"Topic3\", \"Topic3\", \"Topic3\", \"Topic3\", \"Topic3\", \"Topic3\", \"Topic3\", \"Topic3\", \"Topic4\", \"Topic4\", \"Topic4\", \"Topic4\", \"Topic4\", \"Topic4\", \"Topic4\", \"Topic4\", \"Topic4\", \"Topic4\", \"Topic4\", \"Topic4\", \"Topic4\", \"Topic4\", \"Topic4\", \"Topic4\", \"Topic4\", \"Topic4\", \"Topic4\", \"Topic4\", \"Topic4\", \"Topic4\", \"Topic4\", \"Topic4\", \"Topic4\", \"Topic4\", \"Topic4\", \"Topic4\", \"Topic4\", \"Topic4\", \"Topic4\", \"Topic4\", \"Topic4\", \"Topic4\", \"Topic4\", \"Topic4\", \"Topic4\", \"Topic4\", \"Topic4\", \"Topic4\", \"Topic4\", \"Topic4\", \"Topic4\", \"Topic4\", \"Topic4\", \"Topic4\", \"Topic4\", \"Topic4\", \"Topic4\", \"Topic4\", \"Topic4\", \"Topic4\", \"Topic4\", \"Topic4\", \"Topic4\", \"Topic4\", \"Topic4\", \"Topic4\", \"Topic4\", \"Topic4\", \"Topic4\", \"Topic4\", \"Topic4\", \"Topic4\", \"Topic4\", \"Topic4\", \"Topic4\", \"Topic4\", \"Topic4\", \"Topic4\"], \"logprob\": [30.0, 29.0, 28.0, 27.0, 26.0, 25.0, 24.0, 23.0, 22.0, 21.0, 20.0, 19.0, 18.0, 17.0, 16.0, 15.0, 14.0, 13.0, 12.0, 11.0, 10.0, 9.0, 8.0, 7.0, 6.0, 5.0, 4.0, 3.0, 2.0, 1.0, -6.0906, -6.1446, -6.3403, -6.4628, -6.4701, -6.5243, -6.0951, -6.578, -6.5717, -6.6208, -5.9867, -6.4269, -5.1161, -6.1808, -6.8044, -6.7947, -6.7983, -6.8297, -6.7227, -6.794, -6.8455, -5.9235, -6.8868, -6.5017, -6.502, -6.6663, -6.9162, -6.8977, -6.8986, -6.9269, -6.3581, -5.952, -6.2725, -5.6686, -6.6331, -6.0646, -6.5788, -6.5424, -6.1315, -6.3649, -4.8956, -6.3878, -5.9306, -6.4317, -5.3317, -5.763, -6.2364, -5.7173, -5.8026, -4.9114, -5.1867, -5.5684, -5.2383, -4.918, -4.8183, -5.5626, -5.0103, -6.1838, -6.0037, -5.0302, -5.729, -5.7837, -6.0615, -5.6662, -5.843, -5.5359, -5.737, -5.6593, -5.9757, -5.8043, -5.9566, -6.0871, -6.1663, -6.3062, -6.104, -5.3258, -6.5269, -6.5784, -6.6373, -6.6539, -6.1775, -6.7328, -6.7367, -5.5916, -6.7543, -6.7655, -6.8322, -6.8473, -6.8879, -6.1854, -6.9149, -6.9356, -5.7032, -6.9406, -6.1427, -5.8586, -6.1429, -6.9661, -6.9757, -6.5913, -6.9699, -4.3982, -5.5192, -6.0294, -5.4437, -6.2044, -6.6483, -4.1106, -6.376, -5.7346, -6.0309, -5.1231, -5.0012, -6.0599, -5.3501, -4.6707, -4.9566, -5.6476, -5.7372, -5.3198, -5.7934, -4.1913, -4.9986, -5.8059, -5.7298, -5.2597, -5.567, -5.6405, -5.4272, -5.3689, -5.4913, -5.2048, -5.5329, -5.7021, -5.7015, -5.6384, -5.6529, -6.1713, -6.2626, -6.286, -6.3044, -6.2226, -6.4123, -6.4079, -6.4701, -6.4931, -6.5437, -5.9489, -5.9976, -6.4394, -6.6255, -6.6366, -6.6799, -6.7087, -6.7425, -6.23, -6.7776, -6.7023, -6.0585, -5.9863, -6.7215, -6.8477, -6.8557, -6.8667, -6.876, -6.89, -6.9067, -6.0015, -6.2836, -6.7774, -5.611, -6.2106, -6.1324, -5.9663, -5.3958, -5.1547, -6.1745, -5.8147, -6.0547, -5.7512, -5.6197, -6.3311, -5.5862, -5.8294, -5.1845, -5.5651, -5.8022, -5.2337, -5.0619, -5.547, -5.6621, -5.2103, -5.5865, -5.8084, -5.8082, -5.7793, -5.6233, -5.3323, -5.4372, -5.667, -5.6933, -5.8383, -5.785, -5.816, -5.7964, -5.8676, -5.2732, -6.0226, -6.1015, -6.2045, -6.28, -6.2866, -6.3074, -6.3365, -6.3468, -6.2431, -6.3664, -6.3907, -6.4021, -6.4714, -6.5026, -6.5569, -6.5571, -6.0362, -6.5891, -6.5626, -6.6683, -6.6855, -6.6704, -6.7412, -6.7322, -6.7471, -6.7648, -6.7396, -6.3121, -6.6077, -5.2818, -5.5508, -5.6213, -6.4659, -6.3257, -5.7381, -5.8605, -6.0614, -6.4025, -6.0686, -6.3683, -5.3864, -6.4436, -6.186, -5.4526, -6.2045, -5.8432, -5.2748, -5.885, -5.4193, -6.2315, -5.2774, -4.9243, -5.3473, -5.817, -5.6808, -4.9983, -5.8252, -5.7864, -5.9061, -5.7233, -5.6974, -5.9962, -5.8643, -5.8101, -5.9751, -5.9197, -5.9471, -5.9775, -5.9833], \"loglift\": [30.0, 29.0, 28.0, 27.0, 26.0, 25.0, 24.0, 23.0, 22.0, 21.0, 20.0, 19.0, 18.0, 17.0, 16.0, 15.0, 14.0, 13.0, 12.0, 11.0, 10.0, 9.0, 8.0, 7.0, 6.0, 5.0, 4.0, 3.0, 2.0, 1.0, 1.3144, 1.3138, 1.3109, 1.3092, 1.3091, 1.3081, 1.308, 1.3074, 1.3074, 1.3062, 1.3061, 1.306, 1.3042, 1.3039, 1.3029, 1.3029, 1.3028, 1.3021, 1.3019, 1.3018, 1.3015, 1.3014, 1.301, 1.3004, 1.3003, 1.3002, 1.3001, 1.3001, 1.2999, 1.2995, 1.297, 1.2913, 1.2927, 1.2772, 1.2961, 1.2825, 1.2947, 1.2933, 1.2777, 1.2835, 1.1975, 1.2796, 1.2383, 1.2807, 1.16, 1.1821, 1.2461, 1.1608, 1.1586, 0.9736, 1.0139, 1.0675, 0.9589, 0.8683, 0.7646, 0.8975, 0.6201, 1.1869, 1.0735, 0.3256, 0.7408, 0.7718, 1.0606, 0.5887, 0.7731, 0.2041, 0.4619, 0.1337, 0.9257, 0.1649, 0.784, 1.3372, 1.3357, 1.3342, 1.331, 1.3308, 1.3308, 1.3298, 1.3287, 1.3283, 1.3276, 1.3271, 1.3263, 1.3258, 1.3257, 1.3255, 1.3246, 1.3239, 1.3227, 1.3226, 1.322, 1.3215, 1.3213, 1.3211, 1.321, 1.321, 1.3209, 1.3207, 1.3207, 1.3202, 1.32, 1.3149, 1.317, 1.3198, 1.3129, 1.3191, 1.3195, 1.2892, 1.3152, 1.2955, 1.3004, 1.2595, 1.237, 1.2914, 1.2522, 1.2069, 1.2196, 1.2467, 1.2544, 1.1944, 1.2404, 0.9028, 1.0386, 1.2126, 1.1817, 0.9487, 1.0592, 1.0807, 0.9753, 0.9239, 0.9868, 0.7685, 0.9791, 0.8554, 0.8256, 0.4943, 0.3163, 1.415, 1.4133, 1.4132, 1.4126, 1.4122, 1.4112, 1.4111, 1.4099, 1.4092, 1.409, 1.4078, 1.4075, 1.4068, 1.4067, 1.4065, 1.4061, 1.4055, 1.4045, 1.4038, 1.4036, 1.4029, 1.4027, 1.4024, 1.4023, 1.4019, 1.4015, 1.4014, 1.4011, 1.4011, 1.4007, 1.3951, 1.3972, 1.4005, 1.3835, 1.3909, 1.3888, 1.3852, 1.3698, 1.3598, 1.388, 1.3726, 1.3816, 1.3596, 1.3158, 1.3797, 1.2161, 1.2596, 1.0663, 1.114, 1.1415, 0.8834, 0.7311, 0.925, 0.9128, 0.5297, 0.6686, 0.8621, 0.8499, 0.8037, 0.5301, 0.0235, 0.1932, 0.3022, 0.28, 0.6023, 0.226, 0.3808, -0.2135, 0.0173, 1.44, 1.4348, 1.4337, 1.4327, 1.4317, 1.4313, 1.4308, 1.4308, 1.4303, 1.4302, 1.4298, 1.4294, 1.4292, 1.4278, 1.4277, 1.4264, 1.4258, 1.4256, 1.4251, 1.4247, 1.4246, 1.424, 1.4238, 1.4226, 1.4222, 1.4221, 1.4219, 1.4219, 1.4216, 1.421, 1.415, 1.4171, 1.4134, 1.4205, 1.4187, 1.4126, 1.4075, 1.4029, 1.4131, 1.3772, 1.4025, 1.2678, 1.4104, 1.3614, 1.2015, 1.3551, 1.2428, 1.0389, 1.2027, 0.9308, 1.3433, 0.696, 0.4314, 0.6637, 1.024, 0.8567, 0.0957, 0.9308, 0.8763, 0.9457, 0.6387, 0.5328, 1.0092, 0.7207, 0.4402, 0.8868, 0.3803, 0.3705, 0.6056, 0.4616]}, \"token.table\": {\"Topic\": [1, 1, 2, 3, 4, 1, 3, 4, 1, 2, 3, 4, 1, 2, 3, 4, 2, 4, 3, 1, 3, 2, 2, 4, 1, 4, 2, 3, 4, 1, 2, 3, 4, 2, 4, 1, 2, 3, 1, 1, 2, 3, 4, 1, 2, 4, 1, 3, 4, 1, 4, 1, 3, 4, 1, 2, 3, 4, 4, 1, 3, 1, 2, 3, 1, 2, 3, 4, 1, 2, 3, 4, 3, 1, 2, 3, 4, 3, 2, 3, 4, 1, 2, 3, 2, 3, 4, 1, 2, 3, 4, 2, 3, 4, 1, 2, 3, 1, 2, 4, 4, 2, 1, 1, 2, 4, 3, 1, 1, 2, 3, 4, 1, 2, 1, 2, 3, 4, 3, 1, 2, 3, 4, 3, 1, 2, 3, 4, 2, 4, 1, 2, 3, 4, 1, 2, 3, 4, 2, 1, 4, 1, 2, 3, 4, 4, 1, 2, 3, 4, 4, 3, 4, 1, 2, 4, 4, 1, 2, 4, 3, 1, 2, 3, 4, 1, 2, 3, 4, 2, 2, 3, 4, 1, 2, 4, 2, 1, 3, 4, 1, 2, 4, 2, 4, 2, 3, 1, 1, 2, 3, 4, 1, 2, 3, 4, 2, 3, 4, 1, 4, 1, 3, 4, 3, 4, 1, 3, 4, 3, 1, 2, 3, 4, 1, 3, 1, 2, 3, 4, 1, 4, 1, 2, 3, 4, 1, 2, 4, 2, 1, 2, 3, 4, 1, 2, 3, 4, 2, 1, 2, 3, 4, 1, 2, 4, 1, 2, 3, 4, 4, 1, 3, 1, 2, 3, 1, 2, 2, 4, 2, 3, 3, 1, 2, 3, 4, 2, 2, 1, 2, 3, 4, 1, 3, 2, 1, 2, 4, 1, 2, 4, 1, 2, 3, 4, 2, 4, 1, 2, 1, 2, 4, 1, 2, 3, 4, 1, 2, 3, 4, 1, 2, 3, 4, 1, 3, 2, 4, 3, 3, 2, 1, 2, 3, 4, 1, 2, 3, 4, 1, 1, 2, 4, 3, 4, 4, 1, 2, 3, 4, 2, 3, 2, 3, 3, 1, 2, 4, 1, 2, 3, 4, 4, 1, 2, 3, 4, 1, 2, 4, 1, 3, 4, 1, 3, 4, 2, 2, 1, 2, 3, 4, 1, 2, 3, 4, 3, 2, 4, 1, 2, 3, 4, 1, 3, 4, 1, 2, 4, 3, 4, 4, 1, 1, 2, 3, 4, 1, 2, 3, 4, 1, 2, 4, 3, 4, 1, 2, 3, 4, 1, 3, 4, 4, 3, 4, 1, 2, 3, 4, 1, 2, 4, 1, 3, 4, 1, 1, 2, 3, 4, 2, 3, 4, 1, 4, 2, 1, 2, 3, 4, 1, 2, 2, 1, 2, 3, 4, 1, 2, 3, 4, 1, 1, 3, 3, 1, 2, 3, 4, 1, 1, 4, 3, 2, 3, 4, 1, 2, 3, 4, 1, 2, 4, 3, 1, 1, 2, 3, 1, 2, 3, 2, 2, 3, 4, 1, 2, 3, 4, 1, 1, 4, 1, 2, 3, 4, 3, 1, 4, 4, 3, 1, 2, 3, 1, 2, 3, 4, 1, 4, 2, 1, 1, 3, 2, 3, 1, 4, 3, 4, 1, 3, 1, 1, 3, 4, 1, 2, 3, 4, 1, 2, 3, 4, 4, 1, 2, 3, 4, 1, 3, 1, 2, 4, 1, 1, 2, 2, 4, 1, 3, 4, 4, 2, 1, 2, 3, 4, 2, 3, 4, 1, 2, 3, 4, 1, 2, 3, 4, 1, 2, 3, 4, 1, 1, 2, 3, 4, 1, 2, 1, 3, 1, 2, 3, 4, 3, 4, 1, 2, 4, 4, 1, 2, 4, 1, 3, 4, 3, 1, 2, 3, 4, 1, 2, 3, 4, 1, 1, 2, 3, 4], \"Freq\": [0.9936607072215281, 0.018148697894269924, 0.970955337343441, 0.009074348947134962, 0.009074348947134962, 0.030383436868409917, 0.9570782613549124, 0.015191718434204958, 0.12494678083156616, 0.8548990267422948, 0.013152292719112228, 0.006576146359556114, 0.9112079618018232, 0.012655666136136433, 0.05062266454454573, 0.025311332272272866, 0.8955665551426362, 0.09950739501584846, 0.9876985302363002, 0.016028888969560964, 0.9777622271432189, 0.9655406819977705, 0.7684062673877996, 0.23456612372890723, 0.9827522758670725, 0.9724900957982264, 0.9116320466750104, 0.010600372635755934, 0.08480298108604747, 0.08232674461227864, 0.6880163656883286, 0.21169734328871648, 0.017641445274059708, 0.0207028151823064, 0.9730323135684007, 0.6944915264091175, 0.2921654007652149, 0.014368790201567947, 0.9912917460942378, 0.8804433752172132, 0.008631797796247188, 0.09494977575871906, 0.017263595592494376, 0.02977480432988385, 0.9527937385562832, 0.014887402164941926, 0.25592034046787454, 0.7289852122418244, 0.007755161832359835, 0.967262986040934, 0.02058006353278583, 0.012428495150815696, 0.024856990301631392, 0.9694226217636243, 0.028179444960872952, 0.007044861240218238, 0.535409454256586, 0.4297365356533125, 0.989650211828595, 0.15190100349187977, 0.841297865493488, 0.04891572518576999, 0.8413504731952438, 0.09783145037153998, 0.6319673389458544, 0.050811444337355134, 0.16831290936748888, 0.1492586177409807, 0.03798677865927941, 0.03798677865927941, 0.018993389329639704, 0.8926892984930661, 0.9583901878669984, 0.05905197056064638, 0.6889396565408744, 0.22308522211799742, 0.02624532024917617, 0.9770622824362907, 0.016952507433790773, 0.9662929237260741, 0.9905928364669783, 0.02111677662860124, 0.02111677662860124, 0.971371724915657, 0.037518613755336265, 0.9567246507610748, 0.9711838957074436, 0.04742643983165381, 0.6534309487916746, 0.2318625947325297, 0.06323525310887174, 0.9651640222499821, 0.002951571933486184, 0.02951571933486184, 0.7736425085113531, 0.06928141867265848, 0.15010974045742673, 0.05444452882555921, 0.8711124612089474, 0.07622234035578289, 0.9709638652905779, 0.9803453141616763, 0.9915042274581871, 0.021337366150087654, 0.9601814767539444, 0.9756208673571513, 0.9683281204627922, 0.9761517051623626, 0.12578418789857182, 0.27952041755238183, 0.5939808872988114, 0.9818278747021831, 0.9770641275167316, 0.013384440102968924, 0.8487756037020089, 0.025720472839454816, 0.006430118209863704, 0.12217224598741037, 0.9852862685728001, 0.2749026004320022, 0.14050577355413446, 0.4398441606912035, 0.14661472023040117, 0.9875426977002718, 0.324417505707551, 0.2152676907031413, 0.40627986696085827, 0.051542968196526796, 0.974397308707398, 0.01968479411530097, 0.07653883138423827, 0.8662804097579695, 0.03479037790192649, 0.020874226741155893, 0.01876031142536572, 0.8770445591358474, 0.09380155712682861, 0.00938015571268286, 0.9706613110573041, 0.9745112051260326, 0.02706975569794535, 0.23291356191145934, 0.11998577431802451, 0.16233369466556258, 0.4870010839966877, 0.9800007756747494, 0.1404613834090267, 0.6684024451877821, 0.01937398391848644, 0.16952235928675635, 0.9795505747207335, 0.01696385759549405, 0.9839037405386548, 0.21003564269746539, 0.011668646816525855, 0.7817993367072322, 0.9857818343190432, 0.9528485406085055, 0.015124580009658817, 0.030249160019317635, 0.9881239539088529, 0.021758295095221206, 0.021758295095221206, 0.9573649841897331, 0.021758295095221206, 0.048083178152108406, 0.9039637492596381, 0.03846654252168673, 0.019233271260843364, 0.9857240364620546, 0.7502239442421167, 0.022065410124768137, 0.22800923795593742, 0.867230549028068, 0.015486259804072642, 0.12389007843258114, 0.9704859421570255, 0.9757614083267379, 0.011972532617505985, 0.005986266308752992, 0.958907571640077, 0.02179335390091084, 0.02179335390091084, 0.9771137182672787, 0.017765703968495975, 0.9828780073422682, 0.9760874430380136, 0.9723744816401833, 0.17141858383414468, 0.7346510735749059, 0.03673255367874529, 0.06122092279790882, 0.6541136192917584, 0.06229653517064365, 0.02491861406825746, 0.26164544771670334, 0.9700241501762983, 0.01515662734650466, 0.01515662734650466, 0.027948427156270023, 0.9642207368913158, 0.1437304874852858, 0.015129524998451136, 0.8396886374140381, 0.9775967029795122, 0.01576768875773407, 0.2425333931627081, 0.30217275213714456, 0.45723508547067926, 0.9742447159011592, 0.09117797040592819, 0.2370627230554133, 0.01823559408118564, 0.656481386922683, 0.959345831966991, 0.018810702587588057, 0.2864387235550884, 0.5928615441023923, 0.11990458195329283, 0.006661365664071824, 0.022501363068652355, 0.9675586119520512, 0.02288599987648277, 0.28988933176878173, 0.1220586660079081, 0.564521330286575, 0.016997545925881624, 0.9688601177752526, 0.016997545925881624, 0.9574090235920129, 0.47696464918681225, 0.010148184025251325, 0.33996416484591935, 0.16744503641664685, 0.9517269738554116, 0.03037426512304505, 0.010124755041015017, 0.010124755041015017, 0.9872670470066109, 0.34600494645984053, 0.05022652448610588, 0.011161449885801306, 0.59713756889037, 0.023105551353922477, 0.023105551353922477, 0.9473276055108215, 0.30372174551111153, 0.05754727809684218, 0.4987430768392989, 0.14067112423672534, 0.9635473984830315, 0.9729675846147993, 0.025604410121442087, 0.27739185607079353, 0.11347848657441553, 0.6052185950635495, 0.016995220932411056, 0.9687275931474303, 0.974933730531886, 0.02190862315801991, 0.9902138395564946, 0.9902791928544766, 0.9708146615262866, 0.5598969008286229, 0.18872929241414255, 0.10694659903468078, 0.14469245751750928, 0.9937041613952824, 0.9676903496928312, 0.12871661869456213, 0.29208771165304487, 0.18317364968072306, 0.4010017736253667, 0.9615194035631283, 0.024654343681105854, 0.9683510394216859, 0.14725502868613377, 0.4724432170346792, 0.37427319791059, 0.012791626261388953, 0.9721635958655604, 0.012791626261388953, 0.1818227255236583, 0.13131641287819767, 0.32324040093094814, 0.3636454510473166, 0.03401129883273504, 0.9523163673165811, 0.9741407637125532, 0.014325599466361076, 0.9773894108130334, 0.02383876611739106, 0.9719911749420859, 0.9784315491873831, 0.021261666967170217, 0.9567750135226597, 0.021261666967170217, 0.7045113316717756, 0.010515094502563814, 0.24535220505982233, 0.04206037801025526, 0.0253713939256915, 0.6977133329565163, 0.2283425453312235, 0.050742787851383, 0.9495814483609389, 0.03218920163935386, 0.2117881604956475, 0.779077876108989, 0.9719733629233667, 0.9817078510980883, 0.981463949408054, 0.7729439065953476, 0.15700423102717997, 0.024154497081104613, 0.06038624270276153, 0.10338257115619916, 0.5590316810668547, 0.31780568170239004, 0.019144920584481327, 0.9816310553243079, 0.8701821685809432, 0.09106557578172662, 0.040473589236322945, 0.9591236502966175, 0.033073229320573015, 0.9716861305876391, 0.018706504314836513, 0.03741300862967303, 0.018706504314836513, 0.9166187114269891, 0.05156735658332769, 0.9411042576457304, 0.05970860068331592, 0.9314541706597284, 0.9792241864988109, 0.23042441642210618, 0.16590557982391643, 0.6083204593543603, 0.015103701120714363, 0.9429024842503109, 0.017261372709387844, 0.025892059064081763, 0.9806003977754191, 0.00576504674570564, 0.9166424325671968, 0.06918056094846768, 0.01153009349141128, 0.7724757191039235, 0.1559806740498307, 0.06684886030707031, 0.585504968292967, 0.4040808936106392, 0.016493097698393435, 0.8431217827698301, 0.05140986480303842, 0.10281972960607684, 0.9756685666129429, 0.9829295323974103, 0.010106724681093585, 0.28804165341116716, 0.6973640029954573, 0.010106724681093585, 0.032288955382956945, 0.25831164306365556, 0.04305194051060926, 0.6673050779144435, 0.9865770120213486, 0.9743199148175599, 0.018042961385510366, 0.03494674791205079, 0.06989349582410158, 0.09319132776546876, 0.8154241179478516, 0.5756392038564314, 0.411170859897451, 0.013705695329915033, 0.004990253124186366, 0.8932553092293595, 0.09980506248372732, 0.9539830046442063, 0.0359993586658191, 0.9926546633267771, 0.9739592702609196, 0.04041571617278042, 0.030311787129585318, 0.7476907491964379, 0.1818707227775119, 0.3675184692179197, 0.024776526014691217, 0.2457005496456879, 0.36132433771424693, 0.016760221522096233, 0.9637127375205333, 0.016760221522096233, 0.022262823961899218, 0.9795642543235655, 0.1026487120654438, 0.22690767930256, 0.3295563913680038, 0.34036151895384004, 0.9946758475693462, 0.9751742269045989, 0.9754643041831855, 0.9725190778506082, 0.9718585150206618, 0.9867548446052304, 0.49457279652711733, 0.14945881213731568, 0.29076532543077777, 0.06521839075082865, 0.9839926751988577, 0.9741798295112077, 0.017712360536567415, 0.40032421723718215, 0.027929596551431315, 0.56790179654577, 0.9930361057982261, 0.004767901892399558, 0.6404881542123405, 0.09535803784799114, 0.25905600282037594, 0.05007768502213466, 0.016692561674044887, 0.9347834537465136, 0.025936043872326613, 0.9855696671484112, 0.9807723853867267, 0.1423745293732186, 0.016749944632143365, 0.24287419716607878, 0.5946230344410894, 0.04556199806021464, 0.9416146265777693, 0.9769625812390307, 0.04008548235562313, 0.020042741177811563, 0.8919019824126145, 0.04008548235562313, 0.22021305088393395, 0.1531916875714323, 0.34946853727232996, 0.27765993372322106, 0.9612907476371179, 0.9719282737835253, 0.017355862031848666, 0.994116563833797, 0.007582244207578388, 0.9856917469851905, 0.007582244207578388, 0.9765038248594153, 0.9804665497906281, 0.9178345126367301, 0.06927052925560227, 0.9696201152121698, 0.9846762988308787, 0.028133608538025108, 0.983287335265789, 0.1661484996671441, 0.42659749914536993, 0.2335059995322025, 0.17512949964915187, 0.6683113772889437, 0.2130847869616922, 0.1065423934808461, 0.9798701479212375, 0.9787869128732599, 0.18421142355070988, 0.008771972550033803, 0.8070214746031099, 0.5752271186528484, 0.3495050847510977, 0.07281355932314536, 0.9769676855820885, 0.31167486209591083, 0.04298963615116011, 0.6448445422674017, 0.5700526629925305, 0.17101579889775917, 0.19433613511108994, 0.06477871170369665, 0.9567875698453476, 0.9608052092921331, 0.040885328054984384, 0.15186369956901322, 0.007593184978450661, 0.561895688405349, 0.2733546592242238, 0.974931079756496, 0.023681416122126764, 0.9709380610071974, 0.9948847337316855, 0.9716516370249785, 0.050736202711576806, 0.008456033785262801, 0.9470757839494337, 0.08627661275761543, 0.15732794091094576, 0.4669087278647423, 0.2892804074814164, 0.024163253172170888, 0.9665301268868355, 0.9888915871590291, 0.9644576005464323, 0.9704171780467383, 0.9700187624193338, 0.974306822177074, 0.016513674952153796, 0.025110086666952573, 0.9541832933441977, 0.9670733817488275, 0.02014736211976724, 0.015271477756253074, 0.9773745764001968, 0.9834471785500722, 0.983891570099108, 0.9770046361704514, 0.990335169114012, 0.18072357253227284, 0.28802819372330984, 0.07906656298286936, 0.44616131968904854, 0.12378819703499838, 0.2652604222178537, 0.5791519218423139, 0.030947049258749595, 0.9850856260143566, 0.011015489964011993, 0.9473321369050315, 0.011015489964011993, 0.022030979928023987, 0.9776533484569089, 0.02384520362090022, 0.3499967500813149, 0.09422989425266172, 0.5519179520513043, 0.9845634847734346, 0.9757499011408142, 0.01599590001870187, 0.07391510680135506, 0.9239388350169382, 0.14608337054685977, 0.5689562852877696, 0.2844781426438848, 0.9899933006390567, 0.9865571095483596, 0.021544621410162404, 0.9048740992268209, 0.03590770235027067, 0.03590770235027067, 0.9840102576042085, 0.9893096147795959, 0.9716048526597234, 0.2200432017470402, 0.16044816794055014, 0.4079967699059704, 0.2108747350075802, 0.3126776441141799, 0.35462220612949674, 0.3241170701183572, 0.007626284002784876, 0.9679386891115797, 0.013632939283261685, 0.013632939283261685, 0.013632939283261685, 0.9785746264105436, 0.042463978705180594, 0.44056377906624866, 0.16985591482072238, 0.3450198269795923, 0.9583815005478926, 0.041668760893386635, 0.015893137033963417, 0.9694813590717685, 0.4221867230826032, 0.22068851433863348, 0.15832002115597618, 0.2014982087439697, 0.9557696643768891, 0.01950550335463039, 0.7305306321620962, 0.14898979998042752, 0.11534694192033099, 0.9839929594798076, 0.01106705325818292, 0.01106705325818292, 0.9628336334619141, 0.8515844400552312, 0.1513927893431522, 0.986211768116021, 0.9878028255736568, 0.19911547596173162, 0.1378491756658142, 0.19145718842474194, 0.47098468352486517, 0.027467260507250537, 0.6111465462863244, 0.3090066807065685, 0.04806770588768844, 0.9829108986774044, 0.006577791333751299, 0.059200122003761686, 0.9340463693926844, 0.9884357391608555], \"Term\": [\"abbott\", \"abc\", \"abc\", \"abc\", \"abc\", \"accid\", \"accid\", \"accid\", \"accus\", \"accus\", \"accus\", \"accus\", \"action\", \"action\", \"action\", \"action\", \"alleg\", \"alleg\", \"angri\", \"approv\", \"approv\", \"arm\", \"arrest\", \"arrest\", \"ash\", \"ask\", \"assault\", \"assault\", \"assault\", \"attack\", \"attack\", \"attack\", \"attack\", \"aussi\", \"aussi\", \"australia\", \"australia\", \"australia\", \"await\", \"back\", \"back\", \"back\", \"back\", \"bail\", \"bail\", \"bail\", \"ban\", \"ban\", \"ban\", \"boat\", \"boat\", \"bodi\", \"bodi\", \"bodi\", \"boost\", \"boost\", \"boost\", \"boost\", \"brace\", \"brisban\", \"brisban\", \"budget\", \"budget\", \"budget\", \"call\", \"call\", \"call\", \"call\", \"campaign\", \"campaign\", \"campaign\", \"campaign\", \"campbel\", \"car\", \"car\", \"car\", \"car\", \"cat\", \"cattl\", \"cattl\", \"celebr\", \"central\", \"central\", \"central\", \"challeng\", \"challeng\", \"chanc\", \"chang\", \"chang\", \"chang\", \"chang\", \"charg\", \"charg\", \"charg\", \"chief\", \"chief\", \"chief\", \"child\", \"child\", \"child\", \"christma\", \"clash\", \"class\", \"climat\", \"climat\", \"closer\", \"closur\", \"coalit\", \"coast\", \"coast\", \"coast\", \"collaps\", \"compani\", \"compani\", \"concern\", \"concern\", \"concern\", \"concern\", \"condit\", \"continu\", \"continu\", \"continu\", \"continu\", \"convict\", \"council\", \"council\", \"council\", \"council\", \"countri\", \"countri\", \"court\", \"court\", \"court\", \"court\", \"crash\", \"crash\", \"crash\", \"crash\", \"creat\", \"cross\", \"cross\", \"cut\", \"cut\", \"cut\", \"cut\", \"dairi\", \"death\", \"death\", \"death\", \"death\", \"defenc\", \"demand\", \"demand\", \"deni\", \"deni\", \"deni\", \"despit\", \"doctor\", \"doctor\", \"doctor\", \"drink\", \"drive\", \"drive\", \"drive\", \"drive\", \"driver\", \"driver\", \"driver\", \"driver\", \"drown\", \"drug\", \"drug\", \"drug\", \"dump\", \"dump\", \"dump\", \"econom\", \"elect\", \"elect\", \"elect\", \"emerg\", \"emerg\", \"emerg\", \"escap\", \"escap\", \"evid\", \"explor\", \"eye\", \"face\", \"face\", \"face\", \"face\", \"farmer\", \"farmer\", \"farmer\", \"farmer\", \"fatal\", \"fatal\", \"fatal\", \"festiv\", \"festiv\", \"final\", \"final\", \"final\", \"fine\", \"fine\", \"fire\", \"fire\", \"fire\", \"firm\", \"first\", \"first\", \"first\", \"first\", \"fish\", \"fish\", \"flood\", \"flood\", \"flood\", \"flood\", \"flu\", \"flu\", \"found\", \"found\", \"found\", \"found\", \"four\", \"four\", \"four\", \"franc\", \"fund\", \"fund\", \"fund\", \"fund\", \"futur\", \"futur\", \"futur\", \"futur\", \"gain\", \"get\", \"get\", \"get\", \"get\", \"girl\", \"girl\", \"girl\", \"govt\", \"govt\", \"govt\", \"govt\", \"gp\", \"grandstand\", \"grandstand\", \"group\", \"group\", \"group\", \"grower\", \"grower\", \"guilti\", \"guilti\", \"harvest\", \"hawk\", \"held\", \"help\", \"help\", \"help\", \"help\", \"higher\", \"histori\", \"hit\", \"hit\", \"hit\", \"hit\", \"hobart\", \"hobart\", \"holiday\", \"home\", \"home\", \"home\", \"hour\", \"hour\", \"hour\", \"hous\", \"hous\", \"hous\", \"hous\", \"hunt\", \"hunt\", \"hunter\", \"hunter\", \"illeg\", \"illeg\", \"indonesia\", \"indonesian\", \"injur\", \"injur\", \"injur\", \"interview\", \"interview\", \"interview\", \"interview\", \"jail\", \"jail\", \"jail\", \"jail\", \"japan\", \"japan\", \"job\", \"job\", \"judg\", \"kangaroo\", \"keen\", \"keep\", \"keep\", \"keep\", \"keep\", \"kill\", \"kill\", \"kill\", \"kill\", \"king\", \"land\", \"land\", \"land\", \"launch\", \"launch\", \"level\", \"life\", \"life\", \"life\", \"life\", \"local\", \"local\", \"look\", \"look\", \"major\", \"make\", \"make\", \"make\", \"man\", \"man\", \"man\", \"man\", \"march\", \"market\", \"market\", \"market\", \"market\", \"may\", \"may\", \"may\", \"mayor\", \"mayor\", \"mayor\", \"meet\", \"meet\", \"meet\", \"member\", \"militari\", \"mine\", \"mine\", \"mine\", \"mine\", \"miss\", \"miss\", \"miss\", \"miss\", \"mix\", \"mother\", \"mother\", \"move\", \"move\", \"move\", \"move\", \"mp\", \"mp\", \"mp\", \"murder\", \"murder\", \"murder\", \"murray\", \"murray\", \"music\", \"must\", \"name\", \"name\", \"name\", \"name\", \"new\", \"new\", \"new\", \"new\", \"news\", \"news\", \"news\", \"nrl\", \"nrl\", \"nsw\", \"nsw\", \"nsw\", \"nsw\", \"oil\", \"option\", \"outbreak\", \"pair\", \"pilbara\", \"pipelin\", \"plan\", \"plan\", \"plan\", \"plan\", \"plane\", \"plead\", \"plead\", \"pm\", \"pm\", \"pm\", \"point\", \"polic\", \"polic\", \"polic\", \"polic\", \"poll\", \"poll\", \"poll\", \"posit\", \"posit\", \"possibl\", \"power\", \"power\", \"power\", \"power\", \"protect\", \"protect\", \"pull\", \"push\", \"push\", \"push\", \"push\", \"qld\", \"qld\", \"qld\", \"qld\", \"quarter\", \"race\", \"race\", \"rape\", \"rate\", \"rate\", \"rate\", \"reach\", \"readi\", \"red\", \"red\", \"reef\", \"refus\", \"refus\", \"replac\", \"report\", \"report\", \"report\", \"report\", \"resid\", \"resid\", \"resid\", \"respons\", \"result\", \"review\", \"review\", \"review\", \"road\", \"road\", \"road\", \"roar\", \"run\", \"run\", \"run\", \"say\", \"say\", \"say\", \"say\", \"scam\", \"scheme\", \"scheme\", \"school\", \"school\", \"school\", \"school\", \"se\", \"search\", \"search\", \"second\", \"sell\", \"servic\", \"servic\", \"servic\", \"set\", \"set\", \"set\", \"set\", \"shark\", \"shark\", \"slam\", \"slow\", \"speed\", \"spot\", \"stab\", \"stab\", \"stage\", \"stage\", \"stock\", \"stock\", \"storm\", \"storm\", \"success\", \"suffer\", \"summit\", \"survivor\", \"sydney\", \"sydney\", \"sydney\", \"sydney\", \"take\", \"take\", \"take\", \"take\", \"team\", \"teen\", \"teen\", \"teen\", \"teen\", \"terror\", \"terror\", \"test\", \"test\", \"test\", \"third\", \"threat\", \"threat\", \"titl\", \"titl\", \"top\", \"top\", \"top\", \"tough\", \"traffic\", \"trial\", \"trial\", \"trial\", \"trial\", \"truck\", \"uk\", \"uni\", \"urg\", \"urg\", \"urg\", \"urg\", \"us\", \"us\", \"us\", \"us\", \"vote\", \"vote\", \"vote\", \"vote\", \"vow\", \"wa\", \"wa\", \"wa\", \"wa\", \"wait\", \"wait\", \"war\", \"war\", \"warn\", \"warn\", \"warn\", \"warn\", \"wast\", \"wast\", \"water\", \"water\", \"water\", \"way\", \"weather\", \"weather\", \"weather\", \"welcom\", \"welcom\", \"western\", \"william\", \"win\", \"win\", \"win\", \"win\", \"woman\", \"woman\", \"woman\", \"woman\", \"worri\", \"year\", \"year\", \"year\", \"zealand\"]}, \"R\": 30, \"lambda.step\": 0.01, \"plot.opts\": {\"xlab\": \"PC1\", \"ylab\": \"PC2\"}, \"topic.order\": [2, 1, 4, 3]};\n",
       "\n",
       "function LDAvis_load_lib(url, callback){\n",
       "  var s = document.createElement('script');\n",
       "  s.src = url;\n",
       "  s.async = true;\n",
       "  s.onreadystatechange = s.onload = callback;\n",
       "  s.onerror = function(){console.warn(\"failed to load library \" + url);};\n",
       "  document.getElementsByTagName(\"head\")[0].appendChild(s);\n",
       "}\n",
       "\n",
       "if(typeof(LDAvis) !== \"undefined\"){\n",
       "   // already loaded: just create the visualization\n",
       "   !function(LDAvis){\n",
       "       new LDAvis(\"#\" + \"ldavis_el2578255617071844889411248\", ldavis_el2578255617071844889411248_data);\n",
       "   }(LDAvis);\n",
       "}else if(typeof define === \"function\" && define.amd){\n",
       "   // require.js is available: use it to load d3/LDAvis\n",
       "   require.config({paths: {d3: \"https://d3js.org/d3.v5\"}});\n",
       "   require([\"d3\"], function(d3){\n",
       "      window.d3 = d3;\n",
       "      LDAvis_load_lib(\"https://cdn.jsdelivr.net/gh/bmabey/pyLDAvis@3.4.0/pyLDAvis/js/ldavis.v3.0.0.js\", function(){\n",
       "        new LDAvis(\"#\" + \"ldavis_el2578255617071844889411248\", ldavis_el2578255617071844889411248_data);\n",
       "      });\n",
       "    });\n",
       "}else{\n",
       "    // require.js not available: dynamically load d3 & LDAvis\n",
       "    LDAvis_load_lib(\"https://d3js.org/d3.v5.js\", function(){\n",
       "         LDAvis_load_lib(\"https://cdn.jsdelivr.net/gh/bmabey/pyLDAvis@3.4.0/pyLDAvis/js/ldavis.v3.0.0.js\", function(){\n",
       "                 new LDAvis(\"#\" + \"ldavis_el2578255617071844889411248\", ldavis_el2578255617071844889411248_data);\n",
       "            })\n",
       "         });\n",
       "}\n",
       "</script>"
      ],
      "text/plain": [
       "PreparedData(topic_coordinates=              x         y  topics  cluster       Freq\n",
       "topic                                                \n",
       "1      0.112469 -0.084007       1        1  26.559086\n",
       "0     -0.226842 -0.056550       2        1  25.950972\n",
       "3      0.093489 -0.086981       3        1  23.963540\n",
       "2      0.020884  0.227538       4        1  23.526402, topic_info=       Term        Freq       Total Category  logprob  loglift\n",
       "139     man  463.000000  463.000000  Default  30.0000  30.0000\n",
       "86    charg  338.000000  338.000000  Default  29.0000  29.0000\n",
       "185   polic  629.000000  629.000000  Default  28.0000  28.0000\n",
       "312   court  287.000000  287.000000  Default  27.0000  27.0000\n",
       "640    back  231.000000  231.000000  Default  26.0000  26.0000\n",
       "...     ...         ...         ...      ...      ...      ...\n",
       "1858     pm   61.339257  107.412937   Topic4  -5.9751   0.8868\n",
       "368      wa   64.831223  188.394970   Topic4  -5.9197   0.3803\n",
       "54      nsw   63.075228  185.097305   Topic4  -5.9471   0.3705\n",
       "283   boost   61.192684  141.947437   Topic4  -5.9775   0.6056\n",
       "459    home   60.836929  162.982549   Topic4  -5.9833   0.4616\n",
       "\n",
       "[306 rows x 6 columns], token_table=      Topic      Freq     Term\n",
       "term                          \n",
       "1103      1  0.993661   abbott\n",
       "496       1  0.018149      abc\n",
       "496       2  0.970955      abc\n",
       "496       3  0.009074      abc\n",
       "496       4  0.009074      abc\n",
       "...     ...       ...      ...\n",
       "2641      1  0.982911    worri\n",
       "251       1  0.006578     year\n",
       "251       2  0.059200     year\n",
       "251       3  0.934046     year\n",
       "3465      4  0.988436  zealand\n",
       "\n",
       "[604 rows x 3 columns], R=30, lambda_step=0.01, plot_opts={'xlab': 'PC1', 'ylab': 'PC2'}, topic_order=[2, 1, 4, 3])"
      ]
     },
     "execution_count": 30,
     "metadata": {},
     "output_type": "execute_result"
    }
   ],
   "source": [
    "# TODO: show visualization results of the LDA\n",
    "import pyLDAvis\n",
    "import pyLDAvis.gensim\n",
    "\n",
    "pyLDAvis.enable_notebook()\n",
    "\n",
    "vis = pyLDAvis.gensim.prepare(lda, corpus, dictionary)\n",
    "vis\n"
   ]
  },
  {
   "cell_type": "markdown",
   "metadata": {},
   "source": [
    "Depending on your results, you can try to fine tune the algorithm: number of topics, hyperparameters...\n",
    "And check with others their results."
   ]
  }
 ],
 "metadata": {
  "kernelspec": {
   "display_name": "Python 3 (ipykernel)",
   "language": "python",
   "name": "python3"
  },
  "language_info": {
   "codemirror_mode": {
    "name": "ipython",
    "version": 3
   },
   "file_extension": ".py",
   "mimetype": "text/x-python",
   "name": "python",
   "nbconvert_exporter": "python",
   "pygments_lexer": "ipython3",
   "version": "3.11.7"
  },
  "toc": {
   "base_numbering": 1,
   "nav_menu": {},
   "number_sections": true,
   "sideBar": true,
   "skip_h1_title": false,
   "title_cell": "Table of Contents",
   "title_sidebar": "Contents",
   "toc_cell": false,
   "toc_position": {},
   "toc_section_display": true,
   "toc_window_display": false
  }
 },
 "nbformat": 4,
 "nbformat_minor": 4
}
